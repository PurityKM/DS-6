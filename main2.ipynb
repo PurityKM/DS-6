import numpy as np

num1 = np.array([1, 2, 7, 5, 5, 3])
num2 = np.array([0, 6, 9, 1, 4, 2])

num3 = np.concatenate(num1, num2)

print(num3)
