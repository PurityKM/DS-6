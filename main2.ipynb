import numpy as np

num1 = np.arr([1, 2, 7, 5, 5, 3])

print(num1)
